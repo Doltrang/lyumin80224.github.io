{
  "nbformat": 4,
  "nbformat_minor": 0,
  "metadata": {
    "colab": {
      "name": "test1022.ipynb",
      "provenance": [],
      "authorship_tag": "ABX9TyO6WWjetUegxX4mW25kXdkk",
      "include_colab_link": true
    },
    "kernelspec": {
      "name": "python3",
      "display_name": "Python 3"
    },
    "language_info": {
      "name": "python"
    },
    "accelerator": "GPU"
  },
  "cells": [
    {
      "cell_type": "markdown",
      "metadata": {
        "id": "view-in-github",
        "colab_type": "text"
      },
      "source": [
        "<a href=\"https://colab.research.google.com/github/Lyumin80224/lyumin80224.github.io/blob/main/test1022.ipynb\" target=\"_parent\"><img src=\"https://colab.research.google.com/assets/colab-badge.svg\" alt=\"Open In Colab\"/></a>"
      ]
    },
    {
      "cell_type": "markdown",
      "metadata": {
        "id": "Cmw6KFAof6E6"
      },
      "source": [
        "載入套件"
      ]
    },
    {
      "cell_type": "code",
      "metadata": {
        "id": "ucF3q5ZsfT-8"
      },
      "source": [
        "import numpy as np\n",
        "import pandas as pd\n",
        "import random"
      ],
      "execution_count": 3,
      "outputs": []
    },
    {
      "cell_type": "markdown",
      "metadata": {
        "id": "AeW08bEbgH1k"
      },
      "source": [
        "資料輸入"
      ]
    },
    {
      "cell_type": "code",
      "metadata": {
        "colab": {
          "resources": {
            "http://localhost:8080/nbextensions/google.colab/files.js": {
              "data": "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",
              "ok": true,
              "headers": [
                [
                  "content-type",
                  "application/javascript"
                ]
              ],
              "status": 200,
              "status_text": ""
            }
          },
          "base_uri": "https://localhost:8080/",
          "height": 74
        },
        "id": "mZVrAVU8gIra",
        "outputId": "6bb4d003-d717-40ba-fbe4-3c642fb92594"
      },
      "source": [
        "from google.colab import files\n",
        "uploaded=files.upload()"
      ],
      "execution_count": 5,
      "outputs": [
        {
          "output_type": "display_data",
          "data": {
            "text/html": [
              "\n",
              "     <input type=\"file\" id=\"files-2f08edd2-adb3-4f44-ac83-1036c95e41d0\" name=\"files[]\" multiple disabled\n",
              "        style=\"border:none\" />\n",
              "     <output id=\"result-2f08edd2-adb3-4f44-ac83-1036c95e41d0\">\n",
              "      Upload widget is only available when the cell has been executed in the\n",
              "      current browser session. Please rerun this cell to enable.\n",
              "      </output>\n",
              "      <script src=\"/nbextensions/google.colab/files.js\"></script> "
            ],
            "text/plain": [
              "<IPython.core.display.HTML object>"
            ]
          },
          "metadata": {}
        },
        {
          "output_type": "stream",
          "name": "stdout",
          "text": [
            "Saving exercise.csv to exercise.csv\n"
          ]
        }
      ]
    },
    {
      "cell_type": "code",
      "metadata": {
        "colab": {
          "base_uri": "https://localhost:8080/",
          "height": 204
        },
        "id": "HNGJxALsgYTY",
        "outputId": "be356cf5-31b5-418d-8e2f-e49130396874"
      },
      "source": [
        "data=pd.read_csv('exercise.csv',header=0)\n",
        "data.head()"
      ],
      "execution_count": 6,
      "outputs": [
        {
          "output_type": "execute_result",
          "data": {
            "text/html": [
              "<div>\n",
              "<style scoped>\n",
              "    .dataframe tbody tr th:only-of-type {\n",
              "        vertical-align: middle;\n",
              "    }\n",
              "\n",
              "    .dataframe tbody tr th {\n",
              "        vertical-align: top;\n",
              "    }\n",
              "\n",
              "    .dataframe thead th {\n",
              "        text-align: right;\n",
              "    }\n",
              "</style>\n",
              "<table border=\"1\" class=\"dataframe\">\n",
              "  <thead>\n",
              "    <tr style=\"text-align: right;\">\n",
              "      <th></th>\n",
              "      <th>座號</th>\n",
              "      <th>頂大</th>\n",
              "      <th>性別</th>\n",
              "      <th>高中</th>\n",
              "      <th>補習科目數</th>\n",
              "      <th>每日讀書時間</th>\n",
              "      <th>區域</th>\n",
              "      <th>成績排名</th>\n",
              "    </tr>\n",
              "  </thead>\n",
              "  <tbody>\n",
              "    <tr>\n",
              "      <th>0</th>\n",
              "      <td>1</td>\n",
              "      <td>1</td>\n",
              "      <td>0</td>\n",
              "      <td>2</td>\n",
              "      <td>1</td>\n",
              "      <td>3.6</td>\n",
              "      <td>3.0</td>\n",
              "      <td>291.0</td>\n",
              "    </tr>\n",
              "    <tr>\n",
              "      <th>1</th>\n",
              "      <td>2</td>\n",
              "      <td>0</td>\n",
              "      <td>0</td>\n",
              "      <td>0</td>\n",
              "      <td>1</td>\n",
              "      <td>0.6</td>\n",
              "      <td>1.0</td>\n",
              "      <td>37.0</td>\n",
              "    </tr>\n",
              "    <tr>\n",
              "      <th>2</th>\n",
              "      <td>3</td>\n",
              "      <td>0</td>\n",
              "      <td>1</td>\n",
              "      <td>0</td>\n",
              "      <td>1</td>\n",
              "      <td>7.2</td>\n",
              "      <td>2.0</td>\n",
              "      <td>282.0</td>\n",
              "    </tr>\n",
              "    <tr>\n",
              "      <th>3</th>\n",
              "      <td>4</td>\n",
              "      <td>0</td>\n",
              "      <td>1</td>\n",
              "      <td>2</td>\n",
              "      <td>1</td>\n",
              "      <td>3.6</td>\n",
              "      <td>1.0</td>\n",
              "      <td>118.0</td>\n",
              "    </tr>\n",
              "    <tr>\n",
              "      <th>4</th>\n",
              "      <td>5</td>\n",
              "      <td>1</td>\n",
              "      <td>0</td>\n",
              "      <td>0</td>\n",
              "      <td>1</td>\n",
              "      <td>9.5</td>\n",
              "      <td>3.0</td>\n",
              "      <td>924.0</td>\n",
              "    </tr>\n",
              "  </tbody>\n",
              "</table>\n",
              "</div>"
            ],
            "text/plain": [
              "   座號  頂大  性別  高中  補習科目數  每日讀書時間   區域   成績排名\n",
              "0   1   1   0   2      1     3.6  3.0  291.0\n",
              "1   2   0   0   0      1     0.6  1.0   37.0\n",
              "2   3   0   1   0      1     7.2  2.0  282.0\n",
              "3   4   0   1   2      1     3.6  1.0  118.0\n",
              "4   5   1   0   0      1     9.5  3.0  924.0"
            ]
          },
          "metadata": {},
          "execution_count": 6
        }
      ]
    },
    {
      "cell_type": "code",
      "metadata": {
        "colab": {
          "base_uri": "https://localhost:8080/"
        },
        "id": "1eTa7ODOgf1K",
        "outputId": "f230d377-9bf5-4769-9c07-d0939ec3a602"
      },
      "source": [
        "data.info()"
      ],
      "execution_count": 7,
      "outputs": [
        {
          "output_type": "stream",
          "name": "stdout",
          "text": [
            "<class 'pandas.core.frame.DataFrame'>\n",
            "RangeIndex: 50 entries, 0 to 49\n",
            "Data columns (total 8 columns):\n",
            " #   Column  Non-Null Count  Dtype  \n",
            "---  ------  --------------  -----  \n",
            " 0   座號      50 non-null     int64  \n",
            " 1   頂大      50 non-null     int64  \n",
            " 2   性別      50 non-null     int64  \n",
            " 3   高中      50 non-null     int64  \n",
            " 4   補習科目數   50 non-null     int64  \n",
            " 5   每日讀書時間  50 non-null     float64\n",
            " 6   區域      49 non-null     float64\n",
            " 7   成績排名    49 non-null     float64\n",
            "dtypes: float64(3), int64(5)\n",
            "memory usage: 3.2 KB\n"
          ]
        }
      ]
    },
    {
      "cell_type": "markdown",
      "metadata": {
        "id": "fY5xTFEvgsVJ"
      },
      "source": [
        "不平衡處理"
      ]
    },
    {
      "cell_type": "code",
      "metadata": {
        "id": "2nKJ9TDAgomI"
      },
      "source": [
        "cols = ['頂大']"
      ],
      "execution_count": 8,
      "outputs": []
    },
    {
      "cell_type": "code",
      "metadata": {
        "colab": {
          "base_uri": "https://localhost:8080/"
        },
        "id": "B-7Sk6wVgyc2",
        "outputId": "e829d286-b2f6-41b4-aaee-ea23057eeaaf"
      },
      "source": [
        "from collections import Counter\n",
        "import pandas as pd\n",
        "result = data[cols].apply(pd.value_counts)\n",
        "print(result)"
      ],
      "execution_count": 9,
      "outputs": [
        {
          "output_type": "stream",
          "name": "stdout",
          "text": [
            "   頂大\n",
            "0  40\n",
            "1  10\n"
          ]
        }
      ]
    },
    {
      "cell_type": "markdown",
      "metadata": {
        "id": "DwJW9RtP3r77"
      },
      "source": [
        "抽樣"
      ]
    },
    {
      "cell_type": "code",
      "metadata": {
        "colab": {
          "base_uri": "https://localhost:8080/"
        },
        "id": "y1Gpxp4K3uCj",
        "outputId": "70025928-94f5-4fa7-9f98-b1c15f9e98e4"
      },
      "source": [
        "df1=pd.DataFrame(data[data['頂大']==1])\n",
        "print(df1)"
      ],
      "execution_count": 10,
      "outputs": [
        {
          "output_type": "stream",
          "name": "stdout",
          "text": [
            "    座號  頂大  性別  高中  補習科目數  每日讀書時間   區域    成績排名\n",
            "0    1   1   0   2      1     3.6  3.0   291.0\n",
            "4    5   1   0   0      1     9.5  3.0   924.0\n",
            "5    6   1   1   2      1     0.4  1.0     4.0\n",
            "10  11   1   1   1      3    26.1  5.0  1582.0\n",
            "18  19   1   0   1      6    32.6  5.0  2864.0\n",
            "21  22   1   1   0      8    39.6  1.0  3275.0\n",
            "28  29   1   0   1      2     0.9  1.0    25.0\n",
            "35  36   1   0   1      4     4.4  1.0   161.0\n",
            "45  46   1   1   1      1     1.3  3.0   126.0\n",
            "49  50   1   0   1      4     7.7  1.0     NaN\n"
          ]
        }
      ]
    },
    {
      "cell_type": "code",
      "metadata": {
        "colab": {
          "base_uri": "https://localhost:8080/"
        },
        "id": "9lVeiKs139Gf",
        "outputId": "3d249b3d-fc85-4e9e-c5da-3c49a0d86b04"
      },
      "source": [
        "df2 = df1.sample(n=30, replace=True)\n",
        "print(df2)"
      ],
      "execution_count": 11,
      "outputs": [
        {
          "output_type": "stream",
          "name": "stdout",
          "text": [
            "    座號  頂大  性別  高中  補習科目數  每日讀書時間   區域    成績排名\n",
            "4    5   1   0   0      1     9.5  3.0   924.0\n",
            "18  19   1   0   1      6    32.6  5.0  2864.0\n",
            "18  19   1   0   1      6    32.6  5.0  2864.0\n",
            "49  50   1   0   1      4     7.7  1.0     NaN\n",
            "18  19   1   0   1      6    32.6  5.0  2864.0\n",
            "4    5   1   0   0      1     9.5  3.0   924.0\n",
            "21  22   1   1   0      8    39.6  1.0  3275.0\n",
            "45  46   1   1   1      1     1.3  3.0   126.0\n",
            "10  11   1   1   1      3    26.1  5.0  1582.0\n",
            "45  46   1   1   1      1     1.3  3.0   126.0\n",
            "21  22   1   1   0      8    39.6  1.0  3275.0\n",
            "18  19   1   0   1      6    32.6  5.0  2864.0\n",
            "21  22   1   1   0      8    39.6  1.0  3275.0\n",
            "18  19   1   0   1      6    32.6  5.0  2864.0\n",
            "0    1   1   0   2      1     3.6  3.0   291.0\n",
            "21  22   1   1   0      8    39.6  1.0  3275.0\n",
            "4    5   1   0   0      1     9.5  3.0   924.0\n",
            "21  22   1   1   0      8    39.6  1.0  3275.0\n",
            "0    1   1   0   2      1     3.6  3.0   291.0\n",
            "35  36   1   0   1      4     4.4  1.0   161.0\n",
            "0    1   1   0   2      1     3.6  3.0   291.0\n",
            "10  11   1   1   1      3    26.1  5.0  1582.0\n",
            "28  29   1   0   1      2     0.9  1.0    25.0\n",
            "35  36   1   0   1      4     4.4  1.0   161.0\n",
            "28  29   1   0   1      2     0.9  1.0    25.0\n",
            "49  50   1   0   1      4     7.7  1.0     NaN\n",
            "18  19   1   0   1      6    32.6  5.0  2864.0\n",
            "28  29   1   0   1      2     0.9  1.0    25.0\n",
            "18  19   1   0   1      6    32.6  5.0  2864.0\n",
            "5    6   1   1   2      1     0.4  1.0     4.0\n"
          ]
        }
      ]
    },
    {
      "cell_type": "code",
      "metadata": {
        "colab": {
          "base_uri": "https://localhost:8080/"
        },
        "id": "Nd53jr684Czc",
        "outputId": "eac56196-1506-4b20-d856-41799d85ea3e"
      },
      "source": [
        "dm=pd.concat([df2,data])\n",
        "print(dm)"
      ],
      "execution_count": 12,
      "outputs": [
        {
          "output_type": "stream",
          "name": "stdout",
          "text": [
            "    座號  頂大  性別  高中  補習科目數  每日讀書時間   區域    成績排名\n",
            "4    5   1   0   0      1     9.5  3.0   924.0\n",
            "18  19   1   0   1      6    32.6  5.0  2864.0\n",
            "18  19   1   0   1      6    32.6  5.0  2864.0\n",
            "49  50   1   0   1      4     7.7  1.0     NaN\n",
            "18  19   1   0   1      6    32.6  5.0  2864.0\n",
            "..  ..  ..  ..  ..    ...     ...  ...     ...\n",
            "45  46   1   1   1      1     1.3  3.0   126.0\n",
            "46  47   0   0   1      2     4.3  1.0   243.0\n",
            "47  48   0   0   0      2    13.9  2.0    67.0\n",
            "48  49   0   1   1      3     3.6  NaN   339.0\n",
            "49  50   1   0   1      4     7.7  1.0     NaN\n",
            "\n",
            "[80 rows x 8 columns]\n"
          ]
        }
      ]
    },
    {
      "cell_type": "code",
      "metadata": {
        "colab": {
          "base_uri": "https://localhost:8080/"
        },
        "id": "DSExrZXR6Jec",
        "outputId": "360fed71-55cb-4a24-8caa-fba48a50570b"
      },
      "source": [
        "result = data[cols].apply(dm.value_counts)\n",
        "print(result)"
      ],
      "execution_count": 13,
      "outputs": [
        {
          "output_type": "stream",
          "name": "stdout",
          "text": [
            "    頂大\n",
            "頂大    \n",
            "1   40\n",
            "0   40\n"
          ]
        }
      ]
    },
    {
      "cell_type": "code",
      "metadata": {
        "colab": {
          "base_uri": "https://localhost:8080/"
        },
        "id": "Z8pPE1NRCzH9",
        "outputId": "c9e53e1c-c565-4fa7-d446-7654c1e64302"
      },
      "source": [
        "#檢查空值欄位\n",
        "dm.info()"
      ],
      "execution_count": 14,
      "outputs": [
        {
          "output_type": "stream",
          "name": "stdout",
          "text": [
            "<class 'pandas.core.frame.DataFrame'>\n",
            "Int64Index: 80 entries, 4 to 49\n",
            "Data columns (total 8 columns):\n",
            " #   Column  Non-Null Count  Dtype  \n",
            "---  ------  --------------  -----  \n",
            " 0   座號      80 non-null     int64  \n",
            " 1   頂大      80 non-null     int64  \n",
            " 2   性別      80 non-null     int64  \n",
            " 3   高中      80 non-null     int64  \n",
            " 4   補習科目數   80 non-null     int64  \n",
            " 5   每日讀書時間  80 non-null     float64\n",
            " 6   區域      79 non-null     float64\n",
            " 7   成績排名    77 non-null     float64\n",
            "dtypes: float64(3), int64(5)\n",
            "memory usage: 5.6 KB\n"
          ]
        }
      ]
    },
    {
      "cell_type": "code",
      "metadata": {
        "colab": {
          "base_uri": "https://localhost:8080/"
        },
        "id": "vYcaKOw3C1Cw",
        "outputId": "bfb49304-2ace-4a02-a84d-bc378d66f6b3"
      },
      "source": [
        "print(dm.isnull())"
      ],
      "execution_count": 15,
      "outputs": [
        {
          "output_type": "stream",
          "name": "stdout",
          "text": [
            "       座號     頂大     性別     高中  補習科目數  每日讀書時間     區域   成績排名\n",
            "4   False  False  False  False  False   False  False  False\n",
            "18  False  False  False  False  False   False  False  False\n",
            "18  False  False  False  False  False   False  False  False\n",
            "49  False  False  False  False  False   False  False   True\n",
            "18  False  False  False  False  False   False  False  False\n",
            "..    ...    ...    ...    ...    ...     ...    ...    ...\n",
            "45  False  False  False  False  False   False  False  False\n",
            "46  False  False  False  False  False   False  False  False\n",
            "47  False  False  False  False  False   False  False  False\n",
            "48  False  False  False  False  False   False   True  False\n",
            "49  False  False  False  False  False   False  False   True\n",
            "\n",
            "[80 rows x 8 columns]\n"
          ]
        }
      ]
    },
    {
      "cell_type": "code",
      "metadata": {
        "colab": {
          "base_uri": "https://localhost:8080/"
        },
        "id": "Mfd4KI_wC2h5",
        "outputId": "4842c600-fc44-4914-f11a-1ab28ea8fe11"
      },
      "source": [
        "print(dm.isnull().sum())"
      ],
      "execution_count": 16,
      "outputs": [
        {
          "output_type": "stream",
          "name": "stdout",
          "text": [
            "座號        0\n",
            "頂大        0\n",
            "性別        0\n",
            "高中        0\n",
            "補習科目數     0\n",
            "每日讀書時間    0\n",
            "區域        1\n",
            "成績排名      3\n",
            "dtype: int64\n"
          ]
        }
      ]
    },
    {
      "cell_type": "markdown",
      "metadata": {
        "id": "Q9UcsQg-C39H"
      },
      "source": [
        "刪除法"
      ]
    },
    {
      "cell_type": "code",
      "metadata": {
        "colab": {
          "base_uri": "https://localhost:8080/",
          "height": 419
        },
        "id": "LFIskBOAC-J2",
        "outputId": "4b32e392-da1d-46b5-b02f-b52e1bdb2628"
      },
      "source": [
        "dm1=dm\n",
        "result_drop=pd.DataFrame(dm1.dropna())\n",
        "result_drop"
      ],
      "execution_count": 17,
      "outputs": [
        {
          "output_type": "execute_result",
          "data": {
            "text/html": [
              "<div>\n",
              "<style scoped>\n",
              "    .dataframe tbody tr th:only-of-type {\n",
              "        vertical-align: middle;\n",
              "    }\n",
              "\n",
              "    .dataframe tbody tr th {\n",
              "        vertical-align: top;\n",
              "    }\n",
              "\n",
              "    .dataframe thead th {\n",
              "        text-align: right;\n",
              "    }\n",
              "</style>\n",
              "<table border=\"1\" class=\"dataframe\">\n",
              "  <thead>\n",
              "    <tr style=\"text-align: right;\">\n",
              "      <th></th>\n",
              "      <th>座號</th>\n",
              "      <th>頂大</th>\n",
              "      <th>性別</th>\n",
              "      <th>高中</th>\n",
              "      <th>補習科目數</th>\n",
              "      <th>每日讀書時間</th>\n",
              "      <th>區域</th>\n",
              "      <th>成績排名</th>\n",
              "    </tr>\n",
              "  </thead>\n",
              "  <tbody>\n",
              "    <tr>\n",
              "      <th>4</th>\n",
              "      <td>5</td>\n",
              "      <td>1</td>\n",
              "      <td>0</td>\n",
              "      <td>0</td>\n",
              "      <td>1</td>\n",
              "      <td>9.5</td>\n",
              "      <td>3.0</td>\n",
              "      <td>924.0</td>\n",
              "    </tr>\n",
              "    <tr>\n",
              "      <th>18</th>\n",
              "      <td>19</td>\n",
              "      <td>1</td>\n",
              "      <td>0</td>\n",
              "      <td>1</td>\n",
              "      <td>6</td>\n",
              "      <td>32.6</td>\n",
              "      <td>5.0</td>\n",
              "      <td>2864.0</td>\n",
              "    </tr>\n",
              "    <tr>\n",
              "      <th>18</th>\n",
              "      <td>19</td>\n",
              "      <td>1</td>\n",
              "      <td>0</td>\n",
              "      <td>1</td>\n",
              "      <td>6</td>\n",
              "      <td>32.6</td>\n",
              "      <td>5.0</td>\n",
              "      <td>2864.0</td>\n",
              "    </tr>\n",
              "    <tr>\n",
              "      <th>18</th>\n",
              "      <td>19</td>\n",
              "      <td>1</td>\n",
              "      <td>0</td>\n",
              "      <td>1</td>\n",
              "      <td>6</td>\n",
              "      <td>32.6</td>\n",
              "      <td>5.0</td>\n",
              "      <td>2864.0</td>\n",
              "    </tr>\n",
              "    <tr>\n",
              "      <th>4</th>\n",
              "      <td>5</td>\n",
              "      <td>1</td>\n",
              "      <td>0</td>\n",
              "      <td>0</td>\n",
              "      <td>1</td>\n",
              "      <td>9.5</td>\n",
              "      <td>3.0</td>\n",
              "      <td>924.0</td>\n",
              "    </tr>\n",
              "    <tr>\n",
              "      <th>...</th>\n",
              "      <td>...</td>\n",
              "      <td>...</td>\n",
              "      <td>...</td>\n",
              "      <td>...</td>\n",
              "      <td>...</td>\n",
              "      <td>...</td>\n",
              "      <td>...</td>\n",
              "      <td>...</td>\n",
              "    </tr>\n",
              "    <tr>\n",
              "      <th>43</th>\n",
              "      <td>44</td>\n",
              "      <td>0</td>\n",
              "      <td>1</td>\n",
              "      <td>0</td>\n",
              "      <td>4</td>\n",
              "      <td>37.3</td>\n",
              "      <td>1.0</td>\n",
              "      <td>75.0</td>\n",
              "    </tr>\n",
              "    <tr>\n",
              "      <th>44</th>\n",
              "      <td>45</td>\n",
              "      <td>0</td>\n",
              "      <td>1</td>\n",
              "      <td>2</td>\n",
              "      <td>1</td>\n",
              "      <td>5.6</td>\n",
              "      <td>1.0</td>\n",
              "      <td>21.0</td>\n",
              "    </tr>\n",
              "    <tr>\n",
              "      <th>45</th>\n",
              "      <td>46</td>\n",
              "      <td>1</td>\n",
              "      <td>1</td>\n",
              "      <td>1</td>\n",
              "      <td>1</td>\n",
              "      <td>1.3</td>\n",
              "      <td>3.0</td>\n",
              "      <td>126.0</td>\n",
              "    </tr>\n",
              "    <tr>\n",
              "      <th>46</th>\n",
              "      <td>47</td>\n",
              "      <td>0</td>\n",
              "      <td>0</td>\n",
              "      <td>1</td>\n",
              "      <td>2</td>\n",
              "      <td>4.3</td>\n",
              "      <td>1.0</td>\n",
              "      <td>243.0</td>\n",
              "    </tr>\n",
              "    <tr>\n",
              "      <th>47</th>\n",
              "      <td>48</td>\n",
              "      <td>0</td>\n",
              "      <td>0</td>\n",
              "      <td>0</td>\n",
              "      <td>2</td>\n",
              "      <td>13.9</td>\n",
              "      <td>2.0</td>\n",
              "      <td>67.0</td>\n",
              "    </tr>\n",
              "  </tbody>\n",
              "</table>\n",
              "<p>76 rows × 8 columns</p>\n",
              "</div>"
            ],
            "text/plain": [
              "    座號  頂大  性別  高中  補習科目數  每日讀書時間   區域    成績排名\n",
              "4    5   1   0   0      1     9.5  3.0   924.0\n",
              "18  19   1   0   1      6    32.6  5.0  2864.0\n",
              "18  19   1   0   1      6    32.6  5.0  2864.0\n",
              "18  19   1   0   1      6    32.6  5.0  2864.0\n",
              "4    5   1   0   0      1     9.5  3.0   924.0\n",
              "..  ..  ..  ..  ..    ...     ...  ...     ...\n",
              "43  44   0   1   0      4    37.3  1.0    75.0\n",
              "44  45   0   1   2      1     5.6  1.0    21.0\n",
              "45  46   1   1   1      1     1.3  3.0   126.0\n",
              "46  47   0   0   1      2     4.3  1.0   243.0\n",
              "47  48   0   0   0      2    13.9  2.0    67.0\n",
              "\n",
              "[76 rows x 8 columns]"
            ]
          },
          "metadata": {},
          "execution_count": 17
        }
      ]
    },
    {
      "cell_type": "markdown",
      "metadata": {
        "id": "K774YqR_Mjs9"
      },
      "source": [
        "填補（天真）預測法"
      ]
    },
    {
      "cell_type": "markdown",
      "metadata": {
        "id": "tT5SsPHmMmRY"
      },
      "source": [
        "類別資料：頻率高"
      ]
    },
    {
      "cell_type": "code",
      "metadata": {
        "colab": {
          "base_uri": "https://localhost:8080/",
          "height": 521
        },
        "id": "tk2ogkfhMoi7",
        "outputId": "680c2ea1-5cbf-420c-d049-080d4273523d"
      },
      "source": [
        "dm2=dm\n",
        "print(dm2.區域.value_counts())\n",
        "dm2.區域 = dm2.區域.fillna(1)\n",
        "dm3=pd.DataFrame(dm2)\n",
        "dm3"
      ],
      "execution_count": 18,
      "outputs": [
        {
          "output_type": "stream",
          "name": "stdout",
          "text": [
            "1.0    34\n",
            "3.0    17\n",
            "5.0    13\n",
            "2.0    10\n",
            "4.0     5\n",
            "Name: 區域, dtype: int64\n"
          ]
        },
        {
          "output_type": "execute_result",
          "data": {
            "text/html": [
              "<div>\n",
              "<style scoped>\n",
              "    .dataframe tbody tr th:only-of-type {\n",
              "        vertical-align: middle;\n",
              "    }\n",
              "\n",
              "    .dataframe tbody tr th {\n",
              "        vertical-align: top;\n",
              "    }\n",
              "\n",
              "    .dataframe thead th {\n",
              "        text-align: right;\n",
              "    }\n",
              "</style>\n",
              "<table border=\"1\" class=\"dataframe\">\n",
              "  <thead>\n",
              "    <tr style=\"text-align: right;\">\n",
              "      <th></th>\n",
              "      <th>座號</th>\n",
              "      <th>頂大</th>\n",
              "      <th>性別</th>\n",
              "      <th>高中</th>\n",
              "      <th>補習科目數</th>\n",
              "      <th>每日讀書時間</th>\n",
              "      <th>區域</th>\n",
              "      <th>成績排名</th>\n",
              "    </tr>\n",
              "  </thead>\n",
              "  <tbody>\n",
              "    <tr>\n",
              "      <th>4</th>\n",
              "      <td>5</td>\n",
              "      <td>1</td>\n",
              "      <td>0</td>\n",
              "      <td>0</td>\n",
              "      <td>1</td>\n",
              "      <td>9.5</td>\n",
              "      <td>3.0</td>\n",
              "      <td>924.0</td>\n",
              "    </tr>\n",
              "    <tr>\n",
              "      <th>18</th>\n",
              "      <td>19</td>\n",
              "      <td>1</td>\n",
              "      <td>0</td>\n",
              "      <td>1</td>\n",
              "      <td>6</td>\n",
              "      <td>32.6</td>\n",
              "      <td>5.0</td>\n",
              "      <td>2864.0</td>\n",
              "    </tr>\n",
              "    <tr>\n",
              "      <th>18</th>\n",
              "      <td>19</td>\n",
              "      <td>1</td>\n",
              "      <td>0</td>\n",
              "      <td>1</td>\n",
              "      <td>6</td>\n",
              "      <td>32.6</td>\n",
              "      <td>5.0</td>\n",
              "      <td>2864.0</td>\n",
              "    </tr>\n",
              "    <tr>\n",
              "      <th>49</th>\n",
              "      <td>50</td>\n",
              "      <td>1</td>\n",
              "      <td>0</td>\n",
              "      <td>1</td>\n",
              "      <td>4</td>\n",
              "      <td>7.7</td>\n",
              "      <td>1.0</td>\n",
              "      <td>NaN</td>\n",
              "    </tr>\n",
              "    <tr>\n",
              "      <th>18</th>\n",
              "      <td>19</td>\n",
              "      <td>1</td>\n",
              "      <td>0</td>\n",
              "      <td>1</td>\n",
              "      <td>6</td>\n",
              "      <td>32.6</td>\n",
              "      <td>5.0</td>\n",
              "      <td>2864.0</td>\n",
              "    </tr>\n",
              "    <tr>\n",
              "      <th>...</th>\n",
              "      <td>...</td>\n",
              "      <td>...</td>\n",
              "      <td>...</td>\n",
              "      <td>...</td>\n",
              "      <td>...</td>\n",
              "      <td>...</td>\n",
              "      <td>...</td>\n",
              "      <td>...</td>\n",
              "    </tr>\n",
              "    <tr>\n",
              "      <th>45</th>\n",
              "      <td>46</td>\n",
              "      <td>1</td>\n",
              "      <td>1</td>\n",
              "      <td>1</td>\n",
              "      <td>1</td>\n",
              "      <td>1.3</td>\n",
              "      <td>3.0</td>\n",
              "      <td>126.0</td>\n",
              "    </tr>\n",
              "    <tr>\n",
              "      <th>46</th>\n",
              "      <td>47</td>\n",
              "      <td>0</td>\n",
              "      <td>0</td>\n",
              "      <td>1</td>\n",
              "      <td>2</td>\n",
              "      <td>4.3</td>\n",
              "      <td>1.0</td>\n",
              "      <td>243.0</td>\n",
              "    </tr>\n",
              "    <tr>\n",
              "      <th>47</th>\n",
              "      <td>48</td>\n",
              "      <td>0</td>\n",
              "      <td>0</td>\n",
              "      <td>0</td>\n",
              "      <td>2</td>\n",
              "      <td>13.9</td>\n",
              "      <td>2.0</td>\n",
              "      <td>67.0</td>\n",
              "    </tr>\n",
              "    <tr>\n",
              "      <th>48</th>\n",
              "      <td>49</td>\n",
              "      <td>0</td>\n",
              "      <td>1</td>\n",
              "      <td>1</td>\n",
              "      <td>3</td>\n",
              "      <td>3.6</td>\n",
              "      <td>1.0</td>\n",
              "      <td>339.0</td>\n",
              "    </tr>\n",
              "    <tr>\n",
              "      <th>49</th>\n",
              "      <td>50</td>\n",
              "      <td>1</td>\n",
              "      <td>0</td>\n",
              "      <td>1</td>\n",
              "      <td>4</td>\n",
              "      <td>7.7</td>\n",
              "      <td>1.0</td>\n",
              "      <td>NaN</td>\n",
              "    </tr>\n",
              "  </tbody>\n",
              "</table>\n",
              "<p>80 rows × 8 columns</p>\n",
              "</div>"
            ],
            "text/plain": [
              "    座號  頂大  性別  高中  補習科目數  每日讀書時間   區域    成績排名\n",
              "4    5   1   0   0      1     9.5  3.0   924.0\n",
              "18  19   1   0   1      6    32.6  5.0  2864.0\n",
              "18  19   1   0   1      6    32.6  5.0  2864.0\n",
              "49  50   1   0   1      4     7.7  1.0     NaN\n",
              "18  19   1   0   1      6    32.6  5.0  2864.0\n",
              "..  ..  ..  ..  ..    ...     ...  ...     ...\n",
              "45  46   1   1   1      1     1.3  3.0   126.0\n",
              "46  47   0   0   1      2     4.3  1.0   243.0\n",
              "47  48   0   0   0      2    13.9  2.0    67.0\n",
              "48  49   0   1   1      3     3.6  1.0   339.0\n",
              "49  50   1   0   1      4     7.7  1.0     NaN\n",
              "\n",
              "[80 rows x 8 columns]"
            ]
          },
          "metadata": {},
          "execution_count": 18
        }
      ]
    },
    {
      "cell_type": "markdown",
      "metadata": {
        "id": "XXvfIsYvNY5j"
      },
      "source": [
        "數值資料：插補"
      ]
    },
    {
      "cell_type": "code",
      "metadata": {
        "colab": {
          "base_uri": "https://localhost:8080/",
          "height": 419
        },
        "id": "rAM2GWEqNZk2",
        "outputId": "af5473a9-a020-42ca-ccb7-ff1955c645a4"
      },
      "source": [
        "dm3.成績排名 = dm3.成績排名.fillna((dm3['成績排名'].mean())) # media()\n",
        "dm4=pd.DataFrame(dm3)\n",
        "dm4"
      ],
      "execution_count": 19,
      "outputs": [
        {
          "output_type": "execute_result",
          "data": {
            "text/html": [
              "<div>\n",
              "<style scoped>\n",
              "    .dataframe tbody tr th:only-of-type {\n",
              "        vertical-align: middle;\n",
              "    }\n",
              "\n",
              "    .dataframe tbody tr th {\n",
              "        vertical-align: top;\n",
              "    }\n",
              "\n",
              "    .dataframe thead th {\n",
              "        text-align: right;\n",
              "    }\n",
              "</style>\n",
              "<table border=\"1\" class=\"dataframe\">\n",
              "  <thead>\n",
              "    <tr style=\"text-align: right;\">\n",
              "      <th></th>\n",
              "      <th>座號</th>\n",
              "      <th>頂大</th>\n",
              "      <th>性別</th>\n",
              "      <th>高中</th>\n",
              "      <th>補習科目數</th>\n",
              "      <th>每日讀書時間</th>\n",
              "      <th>區域</th>\n",
              "      <th>成績排名</th>\n",
              "    </tr>\n",
              "  </thead>\n",
              "  <tbody>\n",
              "    <tr>\n",
              "      <th>4</th>\n",
              "      <td>5</td>\n",
              "      <td>1</td>\n",
              "      <td>0</td>\n",
              "      <td>0</td>\n",
              "      <td>1</td>\n",
              "      <td>9.5</td>\n",
              "      <td>3.0</td>\n",
              "      <td>924.000000</td>\n",
              "    </tr>\n",
              "    <tr>\n",
              "      <th>18</th>\n",
              "      <td>19</td>\n",
              "      <td>1</td>\n",
              "      <td>0</td>\n",
              "      <td>1</td>\n",
              "      <td>6</td>\n",
              "      <td>32.6</td>\n",
              "      <td>5.0</td>\n",
              "      <td>2864.000000</td>\n",
              "    </tr>\n",
              "    <tr>\n",
              "      <th>18</th>\n",
              "      <td>19</td>\n",
              "      <td>1</td>\n",
              "      <td>0</td>\n",
              "      <td>1</td>\n",
              "      <td>6</td>\n",
              "      <td>32.6</td>\n",
              "      <td>5.0</td>\n",
              "      <td>2864.000000</td>\n",
              "    </tr>\n",
              "    <tr>\n",
              "      <th>49</th>\n",
              "      <td>50</td>\n",
              "      <td>1</td>\n",
              "      <td>0</td>\n",
              "      <td>1</td>\n",
              "      <td>4</td>\n",
              "      <td>7.7</td>\n",
              "      <td>1.0</td>\n",
              "      <td>916.961039</td>\n",
              "    </tr>\n",
              "    <tr>\n",
              "      <th>18</th>\n",
              "      <td>19</td>\n",
              "      <td>1</td>\n",
              "      <td>0</td>\n",
              "      <td>1</td>\n",
              "      <td>6</td>\n",
              "      <td>32.6</td>\n",
              "      <td>5.0</td>\n",
              "      <td>2864.000000</td>\n",
              "    </tr>\n",
              "    <tr>\n",
              "      <th>...</th>\n",
              "      <td>...</td>\n",
              "      <td>...</td>\n",
              "      <td>...</td>\n",
              "      <td>...</td>\n",
              "      <td>...</td>\n",
              "      <td>...</td>\n",
              "      <td>...</td>\n",
              "      <td>...</td>\n",
              "    </tr>\n",
              "    <tr>\n",
              "      <th>45</th>\n",
              "      <td>46</td>\n",
              "      <td>1</td>\n",
              "      <td>1</td>\n",
              "      <td>1</td>\n",
              "      <td>1</td>\n",
              "      <td>1.3</td>\n",
              "      <td>3.0</td>\n",
              "      <td>126.000000</td>\n",
              "    </tr>\n",
              "    <tr>\n",
              "      <th>46</th>\n",
              "      <td>47</td>\n",
              "      <td>0</td>\n",
              "      <td>0</td>\n",
              "      <td>1</td>\n",
              "      <td>2</td>\n",
              "      <td>4.3</td>\n",
              "      <td>1.0</td>\n",
              "      <td>243.000000</td>\n",
              "    </tr>\n",
              "    <tr>\n",
              "      <th>47</th>\n",
              "      <td>48</td>\n",
              "      <td>0</td>\n",
              "      <td>0</td>\n",
              "      <td>0</td>\n",
              "      <td>2</td>\n",
              "      <td>13.9</td>\n",
              "      <td>2.0</td>\n",
              "      <td>67.000000</td>\n",
              "    </tr>\n",
              "    <tr>\n",
              "      <th>48</th>\n",
              "      <td>49</td>\n",
              "      <td>0</td>\n",
              "      <td>1</td>\n",
              "      <td>1</td>\n",
              "      <td>3</td>\n",
              "      <td>3.6</td>\n",
              "      <td>1.0</td>\n",
              "      <td>339.000000</td>\n",
              "    </tr>\n",
              "    <tr>\n",
              "      <th>49</th>\n",
              "      <td>50</td>\n",
              "      <td>1</td>\n",
              "      <td>0</td>\n",
              "      <td>1</td>\n",
              "      <td>4</td>\n",
              "      <td>7.7</td>\n",
              "      <td>1.0</td>\n",
              "      <td>916.961039</td>\n",
              "    </tr>\n",
              "  </tbody>\n",
              "</table>\n",
              "<p>80 rows × 8 columns</p>\n",
              "</div>"
            ],
            "text/plain": [
              "    座號  頂大  性別  高中  補習科目數  每日讀書時間   區域         成績排名\n",
              "4    5   1   0   0      1     9.5  3.0   924.000000\n",
              "18  19   1   0   1      6    32.6  5.0  2864.000000\n",
              "18  19   1   0   1      6    32.6  5.0  2864.000000\n",
              "49  50   1   0   1      4     7.7  1.0   916.961039\n",
              "18  19   1   0   1      6    32.6  5.0  2864.000000\n",
              "..  ..  ..  ..  ..    ...     ...  ...          ...\n",
              "45  46   1   1   1      1     1.3  3.0   126.000000\n",
              "46  47   0   0   1      2     4.3  1.0   243.000000\n",
              "47  48   0   0   0      2    13.9  2.0    67.000000\n",
              "48  49   0   1   1      3     3.6  1.0   339.000000\n",
              "49  50   1   0   1      4     7.7  1.0   916.961039\n",
              "\n",
              "[80 rows x 8 columns]"
            ]
          },
          "metadata": {},
          "execution_count": 19
        }
      ]
    },
    {
      "cell_type": "markdown",
      "metadata": {
        "id": "2fztDnCxOCPZ"
      },
      "source": [
        "敘述統計"
      ]
    },
    {
      "cell_type": "code",
      "metadata": {
        "id": "MRQ86DUVOCzX"
      },
      "source": [
        "def status(x) : \n",
        "    return pd.Series([x.count(),x.min(),x.idxmin(),x.quantile(.25),x.median(),\n",
        "                      x.quantile(.75),x.mean(),x.max(),x.idxmax(),x.mad(),x.var(),\n",
        "                      x.std(),x.skew(),x.kurt()],index=['總數','最小值','最小值位置','25%分位數',\n",
        "                    '中位數','75%分位數','均值','最大值','最大值位數','平均絕對偏差','變異數','標準差','偏度','峰度'])"
      ],
      "execution_count": 20,
      "outputs": []
    },
    {
      "cell_type": "code",
      "metadata": {
        "colab": {
          "base_uri": "https://localhost:8080/",
          "height": 483
        },
        "id": "zWy63QUKOPhC",
        "outputId": "dda21a82-d111-48a5-a464-0532a77ae1ad"
      },
      "source": [
        "cols=['補習科目數','每日讀書時間','區域','成績排名']\n",
        "Descriptivestatistics= pd.DataFrame(dm4[cols].apply(status))\n",
        "Descriptivestatistics"
      ],
      "execution_count": 21,
      "outputs": [
        {
          "output_type": "execute_result",
          "data": {
            "text/html": [
              "<div>\n",
              "<style scoped>\n",
              "    .dataframe tbody tr th:only-of-type {\n",
              "        vertical-align: middle;\n",
              "    }\n",
              "\n",
              "    .dataframe tbody tr th {\n",
              "        vertical-align: top;\n",
              "    }\n",
              "\n",
              "    .dataframe thead th {\n",
              "        text-align: right;\n",
              "    }\n",
              "</style>\n",
              "<table border=\"1\" class=\"dataframe\">\n",
              "  <thead>\n",
              "    <tr style=\"text-align: right;\">\n",
              "      <th></th>\n",
              "      <th>補習科目數</th>\n",
              "      <th>每日讀書時間</th>\n",
              "      <th>區域</th>\n",
              "      <th>成績排名</th>\n",
              "    </tr>\n",
              "  </thead>\n",
              "  <tbody>\n",
              "    <tr>\n",
              "      <th>總數</th>\n",
              "      <td>80.000000</td>\n",
              "      <td>80.000000</td>\n",
              "      <td>80.000000</td>\n",
              "      <td>8.000000e+01</td>\n",
              "    </tr>\n",
              "    <tr>\n",
              "      <th>最小值</th>\n",
              "      <td>1.000000</td>\n",
              "      <td>0.400000</td>\n",
              "      <td>1.000000</td>\n",
              "      <td>4.000000e+00</td>\n",
              "    </tr>\n",
              "    <tr>\n",
              "      <th>最小值位置</th>\n",
              "      <td>4.000000</td>\n",
              "      <td>5.000000</td>\n",
              "      <td>49.000000</td>\n",
              "      <td>5.000000e+00</td>\n",
              "    </tr>\n",
              "    <tr>\n",
              "      <th>25%分位數</th>\n",
              "      <td>1.000000</td>\n",
              "      <td>3.600000</td>\n",
              "      <td>1.000000</td>\n",
              "      <td>1.260000e+02</td>\n",
              "    </tr>\n",
              "    <tr>\n",
              "      <th>中位數</th>\n",
              "      <td>3.000000</td>\n",
              "      <td>7.550000</td>\n",
              "      <td>2.000000</td>\n",
              "      <td>3.310000e+02</td>\n",
              "    </tr>\n",
              "    <tr>\n",
              "      <th>75%分位數</th>\n",
              "      <td>5.000000</td>\n",
              "      <td>26.850000</td>\n",
              "      <td>3.000000</td>\n",
              "      <td>1.446000e+03</td>\n",
              "    </tr>\n",
              "    <tr>\n",
              "      <th>均值</th>\n",
              "      <td>3.425000</td>\n",
              "      <td>14.216250</td>\n",
              "      <td>2.387500</td>\n",
              "      <td>9.169610e+02</td>\n",
              "    </tr>\n",
              "    <tr>\n",
              "      <th>最大值</th>\n",
              "      <td>10.000000</td>\n",
              "      <td>46.900000</td>\n",
              "      <td>5.000000</td>\n",
              "      <td>3.275000e+03</td>\n",
              "    </tr>\n",
              "    <tr>\n",
              "      <th>最大值位數</th>\n",
              "      <td>23.000000</td>\n",
              "      <td>23.000000</td>\n",
              "      <td>18.000000</td>\n",
              "      <td>2.100000e+01</td>\n",
              "    </tr>\n",
              "    <tr>\n",
              "      <th>平均絕對偏差</th>\n",
              "      <td>1.974375</td>\n",
              "      <td>12.373625</td>\n",
              "      <td>1.310938</td>\n",
              "      <td>8.692023e+02</td>\n",
              "    </tr>\n",
              "    <tr>\n",
              "      <th>變異數</th>\n",
              "      <td>5.690506</td>\n",
              "      <td>194.601125</td>\n",
              "      <td>2.240348</td>\n",
              "      <td>1.175911e+06</td>\n",
              "    </tr>\n",
              "    <tr>\n",
              "      <th>標準差</th>\n",
              "      <td>2.385478</td>\n",
              "      <td>13.949951</td>\n",
              "      <td>1.496779</td>\n",
              "      <td>1.084394e+03</td>\n",
              "    </tr>\n",
              "    <tr>\n",
              "      <th>偏度</th>\n",
              "      <td>0.844202</td>\n",
              "      <td>0.786384</td>\n",
              "      <td>0.629518</td>\n",
              "      <td>1.212359e+00</td>\n",
              "    </tr>\n",
              "    <tr>\n",
              "      <th>峰度</th>\n",
              "      <td>-0.208269</td>\n",
              "      <td>-0.949900</td>\n",
              "      <td>-1.017529</td>\n",
              "      <td>2.378054e-02</td>\n",
              "    </tr>\n",
              "  </tbody>\n",
              "</table>\n",
              "</div>"
            ],
            "text/plain": [
              "            補習科目數      每日讀書時間         區域          成績排名\n",
              "總數      80.000000   80.000000  80.000000  8.000000e+01\n",
              "最小值      1.000000    0.400000   1.000000  4.000000e+00\n",
              "最小值位置    4.000000    5.000000  49.000000  5.000000e+00\n",
              "25%分位數   1.000000    3.600000   1.000000  1.260000e+02\n",
              "中位數      3.000000    7.550000   2.000000  3.310000e+02\n",
              "75%分位數   5.000000   26.850000   3.000000  1.446000e+03\n",
              "均值       3.425000   14.216250   2.387500  9.169610e+02\n",
              "最大值     10.000000   46.900000   5.000000  3.275000e+03\n",
              "最大值位數   23.000000   23.000000  18.000000  2.100000e+01\n",
              "平均絕對偏差   1.974375   12.373625   1.310938  8.692023e+02\n",
              "變異數      5.690506  194.601125   2.240348  1.175911e+06\n",
              "標準差      2.385478   13.949951   1.496779  1.084394e+03\n",
              "偏度       0.844202    0.786384   0.629518  1.212359e+00\n",
              "峰度      -0.208269   -0.949900  -1.017529  2.378054e-02"
            ]
          },
          "metadata": {},
          "execution_count": 21
        }
      ]
    },
    {
      "cell_type": "markdown",
      "metadata": {
        "id": "9e8ToxB2PSXw"
      },
      "source": [
        "修正資料偏態"
      ]
    },
    {
      "cell_type": "markdown",
      "metadata": {
        "id": "AcWpyAx7PS6S"
      },
      "source": [
        "對數轉換（Log Transformation）"
      ]
    },
    {
      "cell_type": "code",
      "metadata": {
        "colab": {
          "base_uri": "https://localhost:8080/",
          "height": 419
        },
        "id": "hymu2dXrPVly",
        "outputId": "067928c9-8126-41a4-d853-e7b619689971"
      },
      "source": [
        "dm4.成績排名=np.log1p(dm4.成績排名)\n",
        "dm5=pd.DataFrame(dm4)\n",
        "dm5"
      ],
      "execution_count": 22,
      "outputs": [
        {
          "output_type": "execute_result",
          "data": {
            "text/html": [
              "<div>\n",
              "<style scoped>\n",
              "    .dataframe tbody tr th:only-of-type {\n",
              "        vertical-align: middle;\n",
              "    }\n",
              "\n",
              "    .dataframe tbody tr th {\n",
              "        vertical-align: top;\n",
              "    }\n",
              "\n",
              "    .dataframe thead th {\n",
              "        text-align: right;\n",
              "    }\n",
              "</style>\n",
              "<table border=\"1\" class=\"dataframe\">\n",
              "  <thead>\n",
              "    <tr style=\"text-align: right;\">\n",
              "      <th></th>\n",
              "      <th>座號</th>\n",
              "      <th>頂大</th>\n",
              "      <th>性別</th>\n",
              "      <th>高中</th>\n",
              "      <th>補習科目數</th>\n",
              "      <th>每日讀書時間</th>\n",
              "      <th>區域</th>\n",
              "      <th>成績排名</th>\n",
              "    </tr>\n",
              "  </thead>\n",
              "  <tbody>\n",
              "    <tr>\n",
              "      <th>4</th>\n",
              "      <td>5</td>\n",
              "      <td>1</td>\n",
              "      <td>0</td>\n",
              "      <td>0</td>\n",
              "      <td>1</td>\n",
              "      <td>9.5</td>\n",
              "      <td>3.0</td>\n",
              "      <td>6.829794</td>\n",
              "    </tr>\n",
              "    <tr>\n",
              "      <th>18</th>\n",
              "      <td>19</td>\n",
              "      <td>1</td>\n",
              "      <td>0</td>\n",
              "      <td>1</td>\n",
              "      <td>6</td>\n",
              "      <td>32.6</td>\n",
              "      <td>5.0</td>\n",
              "      <td>7.960324</td>\n",
              "    </tr>\n",
              "    <tr>\n",
              "      <th>18</th>\n",
              "      <td>19</td>\n",
              "      <td>1</td>\n",
              "      <td>0</td>\n",
              "      <td>1</td>\n",
              "      <td>6</td>\n",
              "      <td>32.6</td>\n",
              "      <td>5.0</td>\n",
              "      <td>7.960324</td>\n",
              "    </tr>\n",
              "    <tr>\n",
              "      <th>49</th>\n",
              "      <td>50</td>\n",
              "      <td>1</td>\n",
              "      <td>0</td>\n",
              "      <td>1</td>\n",
              "      <td>4</td>\n",
              "      <td>7.7</td>\n",
              "      <td>1.0</td>\n",
              "      <td>6.822155</td>\n",
              "    </tr>\n",
              "    <tr>\n",
              "      <th>18</th>\n",
              "      <td>19</td>\n",
              "      <td>1</td>\n",
              "      <td>0</td>\n",
              "      <td>1</td>\n",
              "      <td>6</td>\n",
              "      <td>32.6</td>\n",
              "      <td>5.0</td>\n",
              "      <td>7.960324</td>\n",
              "    </tr>\n",
              "    <tr>\n",
              "      <th>...</th>\n",
              "      <td>...</td>\n",
              "      <td>...</td>\n",
              "      <td>...</td>\n",
              "      <td>...</td>\n",
              "      <td>...</td>\n",
              "      <td>...</td>\n",
              "      <td>...</td>\n",
              "      <td>...</td>\n",
              "    </tr>\n",
              "    <tr>\n",
              "      <th>45</th>\n",
              "      <td>46</td>\n",
              "      <td>1</td>\n",
              "      <td>1</td>\n",
              "      <td>1</td>\n",
              "      <td>1</td>\n",
              "      <td>1.3</td>\n",
              "      <td>3.0</td>\n",
              "      <td>4.844187</td>\n",
              "    </tr>\n",
              "    <tr>\n",
              "      <th>46</th>\n",
              "      <td>47</td>\n",
              "      <td>0</td>\n",
              "      <td>0</td>\n",
              "      <td>1</td>\n",
              "      <td>2</td>\n",
              "      <td>4.3</td>\n",
              "      <td>1.0</td>\n",
              "      <td>5.497168</td>\n",
              "    </tr>\n",
              "    <tr>\n",
              "      <th>47</th>\n",
              "      <td>48</td>\n",
              "      <td>0</td>\n",
              "      <td>0</td>\n",
              "      <td>0</td>\n",
              "      <td>2</td>\n",
              "      <td>13.9</td>\n",
              "      <td>2.0</td>\n",
              "      <td>4.219508</td>\n",
              "    </tr>\n",
              "    <tr>\n",
              "      <th>48</th>\n",
              "      <td>49</td>\n",
              "      <td>0</td>\n",
              "      <td>1</td>\n",
              "      <td>1</td>\n",
              "      <td>3</td>\n",
              "      <td>3.6</td>\n",
              "      <td>1.0</td>\n",
              "      <td>5.828946</td>\n",
              "    </tr>\n",
              "    <tr>\n",
              "      <th>49</th>\n",
              "      <td>50</td>\n",
              "      <td>1</td>\n",
              "      <td>0</td>\n",
              "      <td>1</td>\n",
              "      <td>4</td>\n",
              "      <td>7.7</td>\n",
              "      <td>1.0</td>\n",
              "      <td>6.822155</td>\n",
              "    </tr>\n",
              "  </tbody>\n",
              "</table>\n",
              "<p>80 rows × 8 columns</p>\n",
              "</div>"
            ],
            "text/plain": [
              "    座號  頂大  性別  高中  補習科目數  每日讀書時間   區域      成績排名\n",
              "4    5   1   0   0      1     9.5  3.0  6.829794\n",
              "18  19   1   0   1      6    32.6  5.0  7.960324\n",
              "18  19   1   0   1      6    32.6  5.0  7.960324\n",
              "49  50   1   0   1      4     7.7  1.0  6.822155\n",
              "18  19   1   0   1      6    32.6  5.0  7.960324\n",
              "..  ..  ..  ..  ..    ...     ...  ...       ...\n",
              "45  46   1   1   1      1     1.3  3.0  4.844187\n",
              "46  47   0   0   1      2     4.3  1.0  5.497168\n",
              "47  48   0   0   0      2    13.9  2.0  4.219508\n",
              "48  49   0   1   1      3     3.6  1.0  5.828946\n",
              "49  50   1   0   1      4     7.7  1.0  6.822155\n",
              "\n",
              "[80 rows x 8 columns]"
            ]
          },
          "metadata": {},
          "execution_count": 22
        }
      ]
    },
    {
      "cell_type": "markdown",
      "metadata": {
        "id": "NfzuQeWaTfOR"
      },
      "source": [
        "平方根轉換（Square Root Transformation）"
      ]
    },
    {
      "cell_type": "code",
      "metadata": {
        "colab": {
          "base_uri": "https://localhost:8080/",
          "height": 419
        },
        "id": "VmoARZY8Thvt",
        "outputId": "cac4bb09-f892-4f7a-dffd-1f06f763333b"
      },
      "source": [
        "dm4.成績排名=dm4.成績排名**(1/2)\n",
        "dm5=pd.DataFrame(dm4)\n",
        "dm5"
      ],
      "execution_count": 23,
      "outputs": [
        {
          "output_type": "execute_result",
          "data": {
            "text/html": [
              "<div>\n",
              "<style scoped>\n",
              "    .dataframe tbody tr th:only-of-type {\n",
              "        vertical-align: middle;\n",
              "    }\n",
              "\n",
              "    .dataframe tbody tr th {\n",
              "        vertical-align: top;\n",
              "    }\n",
              "\n",
              "    .dataframe thead th {\n",
              "        text-align: right;\n",
              "    }\n",
              "</style>\n",
              "<table border=\"1\" class=\"dataframe\">\n",
              "  <thead>\n",
              "    <tr style=\"text-align: right;\">\n",
              "      <th></th>\n",
              "      <th>座號</th>\n",
              "      <th>頂大</th>\n",
              "      <th>性別</th>\n",
              "      <th>高中</th>\n",
              "      <th>補習科目數</th>\n",
              "      <th>每日讀書時間</th>\n",
              "      <th>區域</th>\n",
              "      <th>成績排名</th>\n",
              "    </tr>\n",
              "  </thead>\n",
              "  <tbody>\n",
              "    <tr>\n",
              "      <th>4</th>\n",
              "      <td>5</td>\n",
              "      <td>1</td>\n",
              "      <td>0</td>\n",
              "      <td>0</td>\n",
              "      <td>1</td>\n",
              "      <td>9.5</td>\n",
              "      <td>3.0</td>\n",
              "      <td>2.613387</td>\n",
              "    </tr>\n",
              "    <tr>\n",
              "      <th>18</th>\n",
              "      <td>19</td>\n",
              "      <td>1</td>\n",
              "      <td>0</td>\n",
              "      <td>1</td>\n",
              "      <td>6</td>\n",
              "      <td>32.6</td>\n",
              "      <td>5.0</td>\n",
              "      <td>2.821405</td>\n",
              "    </tr>\n",
              "    <tr>\n",
              "      <th>18</th>\n",
              "      <td>19</td>\n",
              "      <td>1</td>\n",
              "      <td>0</td>\n",
              "      <td>1</td>\n",
              "      <td>6</td>\n",
              "      <td>32.6</td>\n",
              "      <td>5.0</td>\n",
              "      <td>2.821405</td>\n",
              "    </tr>\n",
              "    <tr>\n",
              "      <th>49</th>\n",
              "      <td>50</td>\n",
              "      <td>1</td>\n",
              "      <td>0</td>\n",
              "      <td>1</td>\n",
              "      <td>4</td>\n",
              "      <td>7.7</td>\n",
              "      <td>1.0</td>\n",
              "      <td>2.611926</td>\n",
              "    </tr>\n",
              "    <tr>\n",
              "      <th>18</th>\n",
              "      <td>19</td>\n",
              "      <td>1</td>\n",
              "      <td>0</td>\n",
              "      <td>1</td>\n",
              "      <td>6</td>\n",
              "      <td>32.6</td>\n",
              "      <td>5.0</td>\n",
              "      <td>2.821405</td>\n",
              "    </tr>\n",
              "    <tr>\n",
              "      <th>...</th>\n",
              "      <td>...</td>\n",
              "      <td>...</td>\n",
              "      <td>...</td>\n",
              "      <td>...</td>\n",
              "      <td>...</td>\n",
              "      <td>...</td>\n",
              "      <td>...</td>\n",
              "      <td>...</td>\n",
              "    </tr>\n",
              "    <tr>\n",
              "      <th>45</th>\n",
              "      <td>46</td>\n",
              "      <td>1</td>\n",
              "      <td>1</td>\n",
              "      <td>1</td>\n",
              "      <td>1</td>\n",
              "      <td>1.3</td>\n",
              "      <td>3.0</td>\n",
              "      <td>2.200951</td>\n",
              "    </tr>\n",
              "    <tr>\n",
              "      <th>46</th>\n",
              "      <td>47</td>\n",
              "      <td>0</td>\n",
              "      <td>0</td>\n",
              "      <td>1</td>\n",
              "      <td>2</td>\n",
              "      <td>4.3</td>\n",
              "      <td>1.0</td>\n",
              "      <td>2.344604</td>\n",
              "    </tr>\n",
              "    <tr>\n",
              "      <th>47</th>\n",
              "      <td>48</td>\n",
              "      <td>0</td>\n",
              "      <td>0</td>\n",
              "      <td>0</td>\n",
              "      <td>2</td>\n",
              "      <td>13.9</td>\n",
              "      <td>2.0</td>\n",
              "      <td>2.054144</td>\n",
              "    </tr>\n",
              "    <tr>\n",
              "      <th>48</th>\n",
              "      <td>49</td>\n",
              "      <td>0</td>\n",
              "      <td>1</td>\n",
              "      <td>1</td>\n",
              "      <td>3</td>\n",
              "      <td>3.6</td>\n",
              "      <td>1.0</td>\n",
              "      <td>2.414321</td>\n",
              "    </tr>\n",
              "    <tr>\n",
              "      <th>49</th>\n",
              "      <td>50</td>\n",
              "      <td>1</td>\n",
              "      <td>0</td>\n",
              "      <td>1</td>\n",
              "      <td>4</td>\n",
              "      <td>7.7</td>\n",
              "      <td>1.0</td>\n",
              "      <td>2.611926</td>\n",
              "    </tr>\n",
              "  </tbody>\n",
              "</table>\n",
              "<p>80 rows × 8 columns</p>\n",
              "</div>"
            ],
            "text/plain": [
              "    座號  頂大  性別  高中  補習科目數  每日讀書時間   區域      成績排名\n",
              "4    5   1   0   0      1     9.5  3.0  2.613387\n",
              "18  19   1   0   1      6    32.6  5.0  2.821405\n",
              "18  19   1   0   1      6    32.6  5.0  2.821405\n",
              "49  50   1   0   1      4     7.7  1.0  2.611926\n",
              "18  19   1   0   1      6    32.6  5.0  2.821405\n",
              "..  ..  ..  ..  ..    ...     ...  ...       ...\n",
              "45  46   1   1   1      1     1.3  3.0  2.200951\n",
              "46  47   0   0   1      2     4.3  1.0  2.344604\n",
              "47  48   0   0   0      2    13.9  2.0  2.054144\n",
              "48  49   0   1   1      3     3.6  1.0  2.414321\n",
              "49  50   1   0   1      4     7.7  1.0  2.611926\n",
              "\n",
              "[80 rows x 8 columns]"
            ]
          },
          "metadata": {},
          "execution_count": 23
        }
      ]
    },
    {
      "cell_type": "markdown",
      "metadata": {
        "id": "ZzdsFaxYTpnL"
      },
      "source": [
        "倒數轉換（Reciprocal Transformation）"
      ]
    },
    {
      "cell_type": "code",
      "metadata": {
        "colab": {
          "base_uri": "https://localhost:8080/",
          "height": 419
        },
        "id": "p92aR_R8TrvU",
        "outputId": "ab48cad0-ba7e-4b4c-eae1-7c261aad4132"
      },
      "source": [
        "dm4.成績排名=1/ dm4.成績排名\n",
        "dm5=pd.DataFrame(dm4)\n",
        "dm5"
      ],
      "execution_count": 24,
      "outputs": [
        {
          "output_type": "execute_result",
          "data": {
            "text/html": [
              "<div>\n",
              "<style scoped>\n",
              "    .dataframe tbody tr th:only-of-type {\n",
              "        vertical-align: middle;\n",
              "    }\n",
              "\n",
              "    .dataframe tbody tr th {\n",
              "        vertical-align: top;\n",
              "    }\n",
              "\n",
              "    .dataframe thead th {\n",
              "        text-align: right;\n",
              "    }\n",
              "</style>\n",
              "<table border=\"1\" class=\"dataframe\">\n",
              "  <thead>\n",
              "    <tr style=\"text-align: right;\">\n",
              "      <th></th>\n",
              "      <th>座號</th>\n",
              "      <th>頂大</th>\n",
              "      <th>性別</th>\n",
              "      <th>高中</th>\n",
              "      <th>補習科目數</th>\n",
              "      <th>每日讀書時間</th>\n",
              "      <th>區域</th>\n",
              "      <th>成績排名</th>\n",
              "    </tr>\n",
              "  </thead>\n",
              "  <tbody>\n",
              "    <tr>\n",
              "      <th>4</th>\n",
              "      <td>5</td>\n",
              "      <td>1</td>\n",
              "      <td>0</td>\n",
              "      <td>0</td>\n",
              "      <td>1</td>\n",
              "      <td>9.5</td>\n",
              "      <td>3.0</td>\n",
              "      <td>0.382645</td>\n",
              "    </tr>\n",
              "    <tr>\n",
              "      <th>18</th>\n",
              "      <td>19</td>\n",
              "      <td>1</td>\n",
              "      <td>0</td>\n",
              "      <td>1</td>\n",
              "      <td>6</td>\n",
              "      <td>32.6</td>\n",
              "      <td>5.0</td>\n",
              "      <td>0.354433</td>\n",
              "    </tr>\n",
              "    <tr>\n",
              "      <th>18</th>\n",
              "      <td>19</td>\n",
              "      <td>1</td>\n",
              "      <td>0</td>\n",
              "      <td>1</td>\n",
              "      <td>6</td>\n",
              "      <td>32.6</td>\n",
              "      <td>5.0</td>\n",
              "      <td>0.354433</td>\n",
              "    </tr>\n",
              "    <tr>\n",
              "      <th>49</th>\n",
              "      <td>50</td>\n",
              "      <td>1</td>\n",
              "      <td>0</td>\n",
              "      <td>1</td>\n",
              "      <td>4</td>\n",
              "      <td>7.7</td>\n",
              "      <td>1.0</td>\n",
              "      <td>0.382859</td>\n",
              "    </tr>\n",
              "    <tr>\n",
              "      <th>18</th>\n",
              "      <td>19</td>\n",
              "      <td>1</td>\n",
              "      <td>0</td>\n",
              "      <td>1</td>\n",
              "      <td>6</td>\n",
              "      <td>32.6</td>\n",
              "      <td>5.0</td>\n",
              "      <td>0.354433</td>\n",
              "    </tr>\n",
              "    <tr>\n",
              "      <th>...</th>\n",
              "      <td>...</td>\n",
              "      <td>...</td>\n",
              "      <td>...</td>\n",
              "      <td>...</td>\n",
              "      <td>...</td>\n",
              "      <td>...</td>\n",
              "      <td>...</td>\n",
              "      <td>...</td>\n",
              "    </tr>\n",
              "    <tr>\n",
              "      <th>45</th>\n",
              "      <td>46</td>\n",
              "      <td>1</td>\n",
              "      <td>1</td>\n",
              "      <td>1</td>\n",
              "      <td>1</td>\n",
              "      <td>1.3</td>\n",
              "      <td>3.0</td>\n",
              "      <td>0.454349</td>\n",
              "    </tr>\n",
              "    <tr>\n",
              "      <th>46</th>\n",
              "      <td>47</td>\n",
              "      <td>0</td>\n",
              "      <td>0</td>\n",
              "      <td>1</td>\n",
              "      <td>2</td>\n",
              "      <td>4.3</td>\n",
              "      <td>1.0</td>\n",
              "      <td>0.426511</td>\n",
              "    </tr>\n",
              "    <tr>\n",
              "      <th>47</th>\n",
              "      <td>48</td>\n",
              "      <td>0</td>\n",
              "      <td>0</td>\n",
              "      <td>0</td>\n",
              "      <td>2</td>\n",
              "      <td>13.9</td>\n",
              "      <td>2.0</td>\n",
              "      <td>0.486821</td>\n",
              "    </tr>\n",
              "    <tr>\n",
              "      <th>48</th>\n",
              "      <td>49</td>\n",
              "      <td>0</td>\n",
              "      <td>1</td>\n",
              "      <td>1</td>\n",
              "      <td>3</td>\n",
              "      <td>3.6</td>\n",
              "      <td>1.0</td>\n",
              "      <td>0.414195</td>\n",
              "    </tr>\n",
              "    <tr>\n",
              "      <th>49</th>\n",
              "      <td>50</td>\n",
              "      <td>1</td>\n",
              "      <td>0</td>\n",
              "      <td>1</td>\n",
              "      <td>4</td>\n",
              "      <td>7.7</td>\n",
              "      <td>1.0</td>\n",
              "      <td>0.382859</td>\n",
              "    </tr>\n",
              "  </tbody>\n",
              "</table>\n",
              "<p>80 rows × 8 columns</p>\n",
              "</div>"
            ],
            "text/plain": [
              "    座號  頂大  性別  高中  補習科目數  每日讀書時間   區域      成績排名\n",
              "4    5   1   0   0      1     9.5  3.0  0.382645\n",
              "18  19   1   0   1      6    32.6  5.0  0.354433\n",
              "18  19   1   0   1      6    32.6  5.0  0.354433\n",
              "49  50   1   0   1      4     7.7  1.0  0.382859\n",
              "18  19   1   0   1      6    32.6  5.0  0.354433\n",
              "..  ..  ..  ..  ..    ...     ...  ...       ...\n",
              "45  46   1   1   1      1     1.3  3.0  0.454349\n",
              "46  47   0   0   1      2     4.3  1.0  0.426511\n",
              "47  48   0   0   0      2    13.9  2.0  0.486821\n",
              "48  49   0   1   1      3     3.6  1.0  0.414195\n",
              "49  50   1   0   1      4     7.7  1.0  0.382859\n",
              "\n",
              "[80 rows x 8 columns]"
            ]
          },
          "metadata": {},
          "execution_count": 24
        }
      ]
    }
  ]
}